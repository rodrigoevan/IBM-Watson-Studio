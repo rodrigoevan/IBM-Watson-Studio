{
    "cells": [
        {
            "cell_type": "markdown",
            "metadata": {},
            "source": "# My Jupyter Notebook on IBM Watson Studio"
        },
        {
            "cell_type": "markdown",
            "metadata": {},
            "source": "**Rodrigo Augusto Evangelista Rodrigues da Silva**"
        },
        {
            "cell_type": "markdown",
            "metadata": {},
            "source": "Maintenance Technical Supervisor"
        },
        {
            "cell_type": "markdown",
            "metadata": {},
            "source": "*I'm interested in data science because it's a market that grows every day and has enormous potential, in addition to my professional satisfaction in working in the technology field.*"
        },
        {
            "cell_type": "markdown",
            "metadata": {},
            "source": "# having a 10\u00d710 matrix filled with random values between 10 and 50, show what is the largest existing value in the matrix, disregarding the elements of the main diagonal."
        },
        {
            "cell_type": "code",
            "execution_count": 40,
            "metadata": {},
            "outputs": [
                {
                    "name": "stdout",
                    "output_type": "stream",
                    "text": "[33, 34, 14, 47, 28, 12, 13, 22, 43, 36]\n[26, 21, 20, 26, 50, 35, 13, 40, 31, 28]\n[32, 22, 39, 35, 27, 13, 13, 24, 13, 46]\n[44, 30, 10, 34, 43, 11, 11, 11, 30, 29]\n[38, 28, 36, 26, 10, 29, 41, 33, 46, 34]\n[32, 19, 46, 29, 15, 47, 17, 26, 45, 37]\n[35, 23, 33, 10, 26, 13, 38, 33, 10, 49]\n[11, 28, 34, 32, 42, 38, 15, 39, 31, 40]\n[31, 38, 36, 10, 23, 23, 43, 40, 50, 12]\n[37, 40, 24, 12, 40, 49, 27, 38, 25, 13]\nM\u00e9dia: \n"
                },
                {
                    "data": {
                        "text/plain": "(None, 26.5)"
                    },
                    "execution_count": 40,
                    "metadata": {},
                    "output_type": "execute_result"
                }
            ],
            "source": "import random\n\ntam = 10\nm = [0]*tam\nfor i in range(tam):\n    m[i] = [0]*tam\nfor i in range(tam):\n    for j in range(tam):\n        m[i][j] = random.randint(10,50)\n\naux = tam-1\nsoma = 0\n\nfor i in range(tam):\n    soma = soma + m[i][aux]\n    aux = aux - 1\n\nfor i in range(tam):\n    print (m[i][:])\nprint ('M\u00e9dia: '), soma/float(tam)"
        }
    ],
    "metadata": {
        "kernelspec": {
            "display_name": "Python 3.8",
            "language": "python",
            "name": "python3"
        }
    },
    "nbformat": 4,
    "nbformat_minor": 1
}